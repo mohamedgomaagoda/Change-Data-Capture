{
 "cells": [
  {
   "cell_type": "code",
   "execution_count": 1,
   "id": "828abc2d-6ecd-403b-ad62-cd60ea4819d2",
   "metadata": {},
   "outputs": [
    {
     "data": {
      "text/html": [
       "\n",
       "            <div>\n",
       "                <p><b>SparkSession - in-memory</b></p>\n",
       "                \n",
       "        <div>\n",
       "            <p><b>SparkContext</b></p>\n",
       "\n",
       "            <p><a href=\"http://9d4dab4ae1c7:4040\">Spark UI</a></p>\n",
       "\n",
       "            <dl>\n",
       "              <dt>Version</dt>\n",
       "                <dd><code>v3.5.0</code></dd>\n",
       "              <dt>Master</dt>\n",
       "                <dd><code>local</code></dd>\n",
       "              <dt>AppName</dt>\n",
       "                <dd><code>kafka-example</code></dd>\n",
       "            </dl>\n",
       "        </div>\n",
       "        \n",
       "            </div>\n",
       "        "
      ],
      "text/plain": [
       "<pyspark.sql.session.SparkSession at 0x7f39d3690610>"
      ]
     },
     "execution_count": 1,
     "metadata": {},
     "output_type": "execute_result"
    }
   ],
   "source": [
    "from pyspark.sql import SparkSession\n",
    "import pyspark\n",
    "from delta import *\n",
    "from pyspark.sql.types import *\n",
    "from delta.tables import *\n",
    "from pyspark.sql.functions import *\n",
    "\n",
    "\n",
    "scala_version = '2.12'  # to be change if needed : the value is based on your installation  \n",
    "spark_version = '3.5.0' # to be change if needed : the value is based on your installation\n",
    "packages = [\n",
    "    f'org.apache.spark:spark-sql-kafka-0-10_{scala_version}:{spark_version}',\n",
    "    'org.apache.kafka:kafka-clients:3.2.0', 'io.delta:delta-spark_2.12:3.1.0'\n",
    "]\n",
    "spark = SparkSession.builder\\\n",
    "   .master(\"local\")\\\n",
    "   .appName(\"kafka-example\")\\\n",
    "   .config(\"spark.jars.packages\", \",\".join(packages))\\\n",
    "   .config(\"spark.sql.extensions\", \"io.delta.sql.DeltaSparkSessionExtension\")\\\n",
    "   .config(\"spark.sql.catalog.spark_catalog\", \"org.apache.spark.sql.delta.catalog.DeltaCatalog\")\\\n",
    "   .getOrCreate()\n",
    "spark\n",
    "\n"
   ]
  },
  {
   "cell_type": "code",
   "execution_count": 2,
   "id": "88614109-fc74-472e-92c6-619691f379e7",
   "metadata": {},
   "outputs": [
    {
     "name": "stdout",
     "output_type": "stream",
     "text": [
      "Installed packages: org.apache.spark:spark-sql-kafka-0-10_2.12:3.5.0,org.apache.kafka:kafka-clients:3.2.0,io.delta:delta-spark_2.12:3.1.0\n"
     ]
    }
   ],
   "source": [
    "installed_packages = spark.conf.get(\"spark.jars.packages\")\n",
    "print(\"Installed packages:\", installed_packages)"
   ]
  },
  {
   "cell_type": "code",
   "execution_count": 3,
   "id": "cf41c948-6eab-4ce2-b583-ba37d5d42fb6",
   "metadata": {},
   "outputs": [],
   "source": [
    "# TODO: Replace with real list of data\n",
    "data = ['Hello', 'World']\n",
    "df = spark.createDataFrame([{'value': v} for v in data])"
   ]
  },
  {
   "cell_type": "code",
   "execution_count": 4,
   "id": "fb408e3f-8839-493c-b198-e4d0cb062460",
   "metadata": {},
   "outputs": [],
   "source": [
    "topic_name = 'dbserver1.cdc.demo'\n",
    "df.write.format(\"kafka\")\\\n",
    "  .option(\"kafka.bootstrap.servers\", \"kafka:9092\")\\\n",
    "  .option(\"topic\", topic_name)\\\n",
    "  .save()"
   ]
  },
  {
   "cell_type": "code",
   "execution_count": null,
   "id": "9f5c6c3d-d8ce-4e1d-878c-72ab17763a85",
   "metadata": {},
   "outputs": [],
   "source": [
    "# Define Kafka source\n",
    "df = spark.readStream \\\n",
    "    .format(\"kafka\") \\\n",
    "    .option(\"kafka.bootstrap.servers\", \"kafka:9092\") \\\n",
    "    .option(\"subscribe\", \"dbserver1.cdc.demo\") \\\n",
    "    .option(\"startingOffsets\", \"earliest\") \\\n",
    "    .load()\n",
    "\n",
    "# Decode the key and value columns from bytes to strings\n",
    "df = df.withColumn(\"key\", col(\"key\").cast(\"string\"))\n",
    "df = df.withColumn(\"value\", col(\"value\").cast(\"string\"))\n",
    "\n",
    "# Start processing the stream and write to both console and Parquet files\n",
    "\n",
    "query = (df.writeStream\n",
    "   .format(\"delta\")\n",
    "   .outputMode(\"append\")\n",
    "   .option(\"checkpointLocation\", \"./data/_checkpoints/\")\n",
    "   .start(\"./data/events\")\n",
    ")\n",
    "query.awaitTermination()"
   ]
  },
  {
   "cell_type": "code",
   "execution_count": null,
   "id": "58447a95-319b-45e3-bb01-b2f942aebf57",
   "metadata": {},
   "outputs": [],
   "source": [
    "delta_table_path = \"./data/events\"\n",
    "\n",
    "df = spark.readStream \\\n",
    "  .format(\"delta\") \\\n",
    "  .load(delta_table_path)\n",
    "\n",
    "# Process the DataFrame (df) here if needed with transformations, aggregations etc.\n",
    "\n",
    "# Start the streaming query and optionally write to a console sink\n",
    "query = df.writeStream \\\n",
    "  .outputMode(\"append\") \\\n",
    "  .format(\"console\") \\\n",
    "  .start()\n",
    "\n",
    "# Wait for termination (optional, can be interrupted using Ctrl+C)\n",
    "query.awaitTermination()\n"
   ]
  }
 ],
 "metadata": {
  "kernelspec": {
   "display_name": "Python 3 (ipykernel)",
   "language": "python",
   "name": "python3"
  },
  "language_info": {
   "codemirror_mode": {
    "name": "ipython",
    "version": 3
   },
   "file_extension": ".py",
   "mimetype": "text/x-python",
   "name": "python",
   "nbconvert_exporter": "python",
   "pygments_lexer": "ipython3",
   "version": "3.11.6"
  }
 },
 "nbformat": 4,
 "nbformat_minor": 5
}
